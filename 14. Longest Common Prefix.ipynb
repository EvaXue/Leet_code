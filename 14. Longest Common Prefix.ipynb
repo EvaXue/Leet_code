{
 "cells": [
  {
   "cell_type": "markdown",
   "metadata": {},
   "source": [
    "https://leetcode.com/problems/longest-common-prefix/\n",
    "\n",
    "https://www.youtube.com/watch?v=cGQez9SiScw"
   ]
  },
  {
   "cell_type": "code",
   "execution_count": 3,
   "metadata": {},
   "outputs": [],
   "source": [
    "class Solution(object):\n",
    "    def longestCommonPrefix(self, strs):\n",
    "        \"\"\"\n",
    "        :type strs: List[str]\n",
    "        :rtype: str\n",
    "        \"\"\"\n",
    "        result =\"\"\n",
    "        i=0\n",
    "\n",
    "        while True:\n",
    "            try:\n",
    "                sets = set(string[i] for string in strs)\n",
    "                if len(sets)==1:\n",
    "                        result += sets.pop()\n",
    "                        i+=1\n",
    "                else:\n",
    "                        break\n",
    "            except Exception as e:\n",
    "                break\n",
    "        return result "
   ]
  },
  {
   "cell_type": "code",
   "execution_count": 5,
   "metadata": {},
   "outputs": [
    {
     "data": {
      "text/plain": [
       "'fl'"
      ]
     },
     "execution_count": 5,
     "metadata": {},
     "output_type": "execute_result"
    }
   ],
   "source": [
    "a= Solution()\n",
    "strs = [\"flower\",\"flow\",\"flight\"]\n",
    "a.longestCommonPrefix(strs)\n"
   ]
  }
 ],
 "metadata": {
  "kernelspec": {
   "display_name": "Python 3",
   "language": "python",
   "name": "python3"
  },
  "language_info": {
   "codemirror_mode": {
    "name": "ipython",
    "version": 3
   },
   "file_extension": ".py",
   "mimetype": "text/x-python",
   "name": "python",
   "nbconvert_exporter": "python",
   "pygments_lexer": "ipython3",
   "version": "3.8.3"
  }
 },
 "nbformat": 4,
 "nbformat_minor": 4
}
