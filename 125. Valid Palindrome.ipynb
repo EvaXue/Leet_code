{
 "cells": [
  {
   "cell_type": "markdown",
   "metadata": {},
   "source": [
    "https://leetcode.com/problems/valid-palindrome/\n",
    "\n",
    "https://www.youtube.com/watch?v=RYOT5VSLjc4\n"
   ]
  },
  {
   "cell_type": "code",
   "execution_count": 1,
   "metadata": {},
   "outputs": [],
   "source": [
    "class Solution(object):\n",
    "    def isPalindrome(self, s):\n",
    "        \"\"\"\n",
    "        :type s: str\n",
    "        :rtype: bool\n",
    "        \"\"\"\n",
    "        l,r=0,len(s)-1\n",
    "        \n",
    "        while l<r:\n",
    "            while  l<r and not s[l].isalnum():\n",
    "                l+=1\n",
    "            while l<r and not s[r].isalnum():\n",
    "                r-=1\n",
    "            \n",
    "            if s[l].lower()!=s[r].lower():\n",
    "                return False\n",
    "            l+=1\n",
    "            r-=1\n",
    "        \n",
    "        return True\n",
    "        \n",
    "                "
   ]
  },
  {
   "cell_type": "code",
   "execution_count": 2,
   "metadata": {},
   "outputs": [
    {
     "data": {
      "text/plain": [
       "True"
      ]
     },
     "execution_count": 2,
     "metadata": {},
     "output_type": "execute_result"
    }
   ],
   "source": [
    "a=Solution()\n",
    "\n",
    "s=\"A man, a plan, a canal: Panama\"\n",
    "a.isPalindrome(s)\n",
    "\n"
   ]
  }
 ],
 "metadata": {
  "kernelspec": {
   "display_name": "Python 3",
   "language": "python",
   "name": "python3"
  },
  "language_info": {
   "codemirror_mode": {
    "name": "ipython",
    "version": 3
   },
   "file_extension": ".py",
   "mimetype": "text/x-python",
   "name": "python",
   "nbconvert_exporter": "python",
   "pygments_lexer": "ipython3",
   "version": "3.8.3"
  }
 },
 "nbformat": 4,
 "nbformat_minor": 4
}
