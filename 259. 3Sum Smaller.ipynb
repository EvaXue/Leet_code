{
 "cells": [
  {
   "cell_type": "markdown",
   "metadata": {},
   "source": [
    "https://leetcode.com/problems/3sum-smaller/\n",
    "\n",
    "https://www.youtube.com/watch?v=F4UKF07-tvo"
   ]
  },
  {
   "cell_type": "code",
   "execution_count": 2,
   "metadata": {},
   "outputs": [],
   "source": [
    "class Solution(object):\n",
    "    def threeSumSmaller(self, nums, target):\n",
    "        \"\"\"\n",
    "        :type nums: List[int]\n",
    "        :type target: int\n",
    "        :rtype: int\n",
    "        \"\"\"\n",
    "        if len(nums)<3:\n",
    "            return 0\n",
    "        newnums = sorted(nums)\n",
    "        counter = 0\n",
    "        \n",
    "        for i in range(len(newnums)-2):\n",
    "            counter+=self.twoSumSmaller(newnums[i+1:],target-newnums[i])\n",
    "        return counter\n",
    "    \n",
    "    def twoSumSmaller(self, nums, target):\n",
    "        counter=0\n",
    "        l,r=0,len(nums)-1\n",
    "        while l<r:\n",
    "            if nums[l]+nums[r]<target:\n",
    "                counter+=r-l\n",
    "                l+=1\n",
    "            else:\n",
    "                r-=1\n",
    "            \n",
    "        return counter"
   ]
  },
  {
   "cell_type": "code",
   "execution_count": 3,
   "metadata": {},
   "outputs": [
    {
     "data": {
      "text/plain": [
       "23"
      ]
     },
     "execution_count": 3,
     "metadata": {},
     "output_type": "execute_result"
    }
   ],
   "source": [
    "test =Solution()\n",
    "nums=[3,2,6,1,7,-1,-3]\n",
    "target =9\n",
    "test.threeSumSmaller(nums,target)"
   ]
  }
 ],
 "metadata": {
  "kernelspec": {
   "display_name": "Python 3",
   "language": "python",
   "name": "python3"
  },
  "language_info": {
   "codemirror_mode": {
    "name": "ipython",
    "version": 3
   },
   "file_extension": ".py",
   "mimetype": "text/x-python",
   "name": "python",
   "nbconvert_exporter": "python",
   "pygments_lexer": "ipython3",
   "version": "3.8.3"
  }
 },
 "nbformat": 4,
 "nbformat_minor": 4
}
