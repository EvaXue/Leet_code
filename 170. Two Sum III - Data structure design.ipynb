{
 "cells": [
  {
   "cell_type": "markdown",
   "metadata": {},
   "source": [
    "https://leetcode.com/problems/two-sum-iii-data-structure-design/\n",
    "\n",
    "### next iteration \n",
    "\n",
    "https://leetcode.com/problems/two-sum-iii-data-structure-design/discuss/161593/Python-solution \n",
    "\n",
    "https://www.python.org/doc/essays/list2str/\n",
    "\n",
    "https://leetcode.com/problems/two-sum-iii-data-structure-design/discuss/52034/Fast-and-simple-AC-Python \n"
   ]
  },
  {
   "cell_type": "code",
   "execution_count": 2,
   "metadata": {},
   "outputs": [],
   "source": [
    "class TwoSum(object):\n",
    "\n",
    "    def __init__(self):\n",
    "        \"\"\"\n",
    "        Initialize your data structure here.\n",
    "        \"\"\"\n",
    "        self.result =[]\n",
    "        self.seen={}\n",
    "        \n",
    "\n",
    "    def add(self, number):\n",
    "        \"\"\"\n",
    "        Add the number to an internal data structure..\n",
    "        :type number: int\n",
    "        :rtype: None\n",
    "        \"\"\"\n",
    "        self.result.append(number)\n",
    "\n",
    "        \n",
    "\n",
    "    def find(self, value):\n",
    "        \"\"\"\n",
    "        Find if there exists any pair of numbers which sum is equal to the value.\n",
    "        :type value: int\n",
    "        :rtype: bool\n",
    "        \"\"\"\n",
    "        for i in range(len(self.result)):\n",
    "            if (value - self.result[i]) in self.seen and self.seen[value-self.result[i]] != i:\n",
    "                return True\n",
    "            self.seen[self.result[i]] = i\n",
    "        return False \n",
    "        "
   ]
  },
  {
   "cell_type": "code",
   "execution_count": 7,
   "metadata": {},
   "outputs": [
    {
     "name": "stdout",
     "output_type": "stream",
     "text": [
      "True\n"
     ]
    }
   ],
   "source": [
    "# Your TwoSum object will be instantiated and called as such:\n",
    "obj = TwoSum()\n",
    "obj.add(5)\n",
    "obj.add(3)\n",
    "obj.add(2)\n",
    "obj.add(3)\n",
    "obj.add(5)\n",
    "param_2 = obj.find(8)\n",
    "print (param_2)"
   ]
  }
 ],
 "metadata": {
  "kernelspec": {
   "display_name": "Python 3",
   "language": "python",
   "name": "python3"
  },
  "language_info": {
   "codemirror_mode": {
    "name": "ipython",
    "version": 3
   },
   "file_extension": ".py",
   "mimetype": "text/x-python",
   "name": "python",
   "nbconvert_exporter": "python",
   "pygments_lexer": "ipython3",
   "version": "3.8.3"
  }
 },
 "nbformat": 4,
 "nbformat_minor": 4
}
