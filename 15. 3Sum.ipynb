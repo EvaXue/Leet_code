{
 "cells": [
  {
   "cell_type": "markdown",
   "metadata": {},
   "source": [
    "https://leetcode.com/problems/3sum/\n",
    "\n",
    "https://www.youtube.com/watch?v=CW6G30xQCbw"
   ]
  },
  {
   "cell_type": "code",
   "execution_count": 1,
   "metadata": {},
   "outputs": [],
   "source": [
    "class Solution(object):\n",
    "    def threeSum(self, nums):\n",
    "        \"\"\"\n",
    "        :type nums: List[int]\n",
    "        :rtype: List[List[int]]\n",
    "        \"\"\"\n",
    "        n=len(nums)\n",
    "        nums.sort()\n",
    "        result =[]\n",
    "        \n",
    "        for i in range(n-2):\n",
    "            if nums[i]+nums[i+1]+nums[i+2] >0:\n",
    "                break \n",
    "            if nums[i]+nums[n-1]+nums[n-2]<0:\n",
    "                continue\n",
    "            if 0 <i and nums[i] == nums[i-1]:\n",
    "                continue\n",
    "            l,r = i+1, n-1\n",
    "            while l<r:\n",
    "                tmp = nums[i]+nums[l]+nums[r]\n",
    "                if tmp ==0:\n",
    "                    result.append([nums[i],nums[l],nums[r]])\n",
    "                    while l+1<r and nums[l]==nums[l+1]:\n",
    "                        l+=1\n",
    "                    l+=1\n",
    "                    \n",
    "                    while l <r-1 and nums[r]==nums[r-1]:\n",
    "                        r-=1\n",
    "                    r-=1\n",
    "                elif tmp <0:\n",
    "                    l+=1\n",
    "                else:\n",
    "                    r-=1\n",
    "        return result\n",
    "                \n",
    "                    "
   ]
  },
  {
   "cell_type": "code",
   "execution_count": 4,
   "metadata": {},
   "outputs": [
    {
     "data": {
      "text/plain": [
       "[[-3, 1, 2]]"
      ]
     },
     "execution_count": 4,
     "metadata": {},
     "output_type": "execute_result"
    }
   ],
   "source": [
    "test =Solution()\n",
    "nums=[3,2,6,1,7,-1,-3]\n",
    "test.threeSum(nums)"
   ]
  }
 ],
 "metadata": {
  "kernelspec": {
   "display_name": "Python 3",
   "language": "python",
   "name": "python3"
  },
  "language_info": {
   "codemirror_mode": {
    "name": "ipython",
    "version": 3
   },
   "file_extension": ".py",
   "mimetype": "text/x-python",
   "name": "python",
   "nbconvert_exporter": "python",
   "pygments_lexer": "ipython3",
   "version": "3.8.3"
  }
 },
 "nbformat": 4,
 "nbformat_minor": 4
}
